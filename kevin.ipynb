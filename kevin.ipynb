{
 "cells": [
  {
   "cell_type": "markdown",
   "metadata": {},
   "source": [
    "# NBA Prediction Models\n",
    "## Kevin Yang, Eric Lee, Derek Young\n",
    "\n",
    "Our main goal is to build prediction models for NBA team performance. As a first step, we will scrape data from `stats.nba.com` and store relevant data in a local sqllite database.\n",
    "\n",
    "First, we will test our scraping functionality on a simple player example."
   ]
  },
  {
   "cell_type": "code",
   "execution_count": 8,
   "metadata": {
    "collapsed": true
   },
   "outputs": [],
   "source": [
    "import requests\n",
    "import sqlite3\n",
    "import pandas as pd\n",
    "\n",
    "# Use svg backend for better quality\n",
    "import matplotlib\n",
    "matplotlib.use(\"svg\")\n",
    "import matplotlib.pyplot as plt\n",
    "%matplotlib inline\n",
    "plt.style.use('ggplot')\n",
    "matplotlib.rcParams['figure.figsize'] = (10.0, 5.0)"
   ]
  },
  {
   "cell_type": "code",
   "execution_count": 12,
   "metadata": {
    "collapsed": false
   },
   "outputs": [
    {
     "name": "stdout",
     "output_type": "stream",
     "text": [
      "header [u'SEASON_ID', u'Player_ID', u'Game_ID', u'GAME_DATE', u'MATCHUP', u'WL', u'MIN', u'FGM', u'FGA', u'FG_PCT', u'FG3M', u'FG3A', u'FG3_PCT', u'FTM', u'FTA', u'FT_PCT', u'OREB', u'DREB', u'REB', u'AST', u'STL', u'BLK', u'TOV', u'PF', u'PTS', u'PLUS_MINUS', u'VIDEO_AVAILABLE']\n",
      "player gamelogs [[u'22016', 202391, u'0021600057', u'NOV 02, 2016', u'BKN vs. DET', u'W', 16, 4, 6, 0.667, 0, 1, 0.0, 2, 2, 1.0, 0, 2, 2, 4, 0, 0, 1, 0, 10, 8, 1], [u'22016', 202391, u'0021600043', u'OCT 31, 2016', u'BKN vs. CHI', u'L', 24, 6, 10, 0.6, 1, 2, 0.5, 1, 2, 0.5, 0, 2, 2, 4, 4, 0, 3, 0, 14, -15, 1], [u'22016', 202391, u'0021600031', u'OCT 29, 2016', u'BKN @ MIL', u'L', 33, 4, 16, 0.25, 1, 7, 0.143, 3, 5, 0.6, 1, 2, 3, 11, 3, 1, 4, 0, 12, 12, 2], [u'22016', 202391, u'0021600019', u'OCT 28, 2016', u'BKN vs. IND', u'W', 34, 6, 12, 0.5, 2, 4, 0.5, 7, 8, 0.875, 0, 9, 9, 9, 0, 1, 2, 1, 21, 0, 2], [u'22016', 202391, u'0021600006', u'OCT 26, 2016', u'BKN @ BOS', u'L', 28, 6, 14, 0.429, 2, 5, 0.4, 4, 5, 0.8, 1, 2, 3, 3, 0, 1, 2, 1, 18, -3, 2]]\n"
     ]
    }
   ],
   "source": [
    "def get_player_gamelogs(player_id, season):\n",
    "    # given a player id (int or string) and a season (string, ex: 2016-17), returns a (header, log_list) where the\n",
    "    # header represents a key describing the format of a log in log list\n",
    "    \n",
    "    player_url = (\"http://stats.nba.com/stats/playergamelog?DateFrom=&DateTo=&LeagueID=00&PlayerID=\" \n",
    "                  + str(player_id) + \"&Season=\" + season + \"&SeasonType=Regular+Season\")\n",
    "    # request the URL and parse the JSON\n",
    "    response = requests.get(player_url)\n",
    "    response.raise_for_status() # raise exception if invalid response\n",
    "    response_json = response.json()\n",
    "    log_list = response_json['resultSets'][0]['rowSet']\n",
    "    header = response_json['resultSets'][0]['headers']\n",
    "    \n",
    "    return (header, log_list)\n",
    "\n",
    "# jeremy lin\n",
    "player_id = 202391\n",
    "season = \"2016-17\"\n",
    "\n",
    "(header, plog_list) = get_player_gamelogs(player_id, season)  \n",
    "\n",
    "print \"header\", header\n",
    "print \"player gamelogs\", plog_list"
   ]
  },
  {
   "cell_type": "markdown",
   "metadata": {},
   "source": [
    "Now we have a way to extract data for a given player and season. Next, we wish to find team specific data. Team specific data is important because we need to extract our features from these data points. These features, along with some player-specfic features, will be used in a supervised learning model to predict the result of an NBA game."
   ]
  },
  {
   "cell_type": "code",
   "execution_count": 13,
   "metadata": {
    "collapsed": false
   },
   "outputs": [
    {
     "ename": "SyntaxError",
     "evalue": "invalid syntax (<ipython-input-13-0fa2a35d9bc0>, line 10)",
     "output_type": "error",
     "traceback": [
      "\u001b[0;36m  File \u001b[0;32m\"<ipython-input-13-0fa2a35d9bc0>\"\u001b[0;36m, line \u001b[0;32m10\u001b[0m\n\u001b[0;31m    SELECT count(*) FROM sqlite_master WHERE type='table' AND name='table_name';\u001b[0m\n\u001b[0m               ^\u001b[0m\n\u001b[0;31mSyntaxError\u001b[0m\u001b[0;31m:\u001b[0m invalid syntax\n"
     ]
    }
   ],
   "source": [
    "def get_all_team_gamelogs(player_id, season):\n",
    "    # given a player id (int or string) and a season (string, ex: 2016-17), returns a (header, log_list) where the\n",
    "    # header represents a key describing the format of a log in log list\n",
    "    \n",
    "    player_url = (\"http://stats.nba.com/stats/playergamelog?DateFrom=&DateTo=&LeagueID=00&PlayerID=\" \n",
    "                  + str(player_id) + \"&Season=\" + season + \"&SeasonType=Regular+Season\")\n",
    "    # request the URL and parse the JSON\n",
    "    response = requests.get(player_url)\n",
    "    response.raise_for_status() # raise exception if invalid response\n",
    "    response_json = response.json()\n",
    "    log_list = response_json['resultSets'][0]['rowSet']\n",
    "    header = response_json['resultSets'][0]['headers']\n",
    "    \n",
    "    return (header, log_list)\n",
    "\n",
    "\n",
    "# def check_table_exists(conn, table_name):\n",
    "#     \"\"\" Check if a table table_name exists in the SQLite database given in conn\n",
    "#     Input:\n",
    "#         conn (sqlite3.Connection) : Connection object corresponding to the database; used to perform SQL commands.\n",
    "#         table_name (string): Name of table to check\n",
    "#     Output:\n",
    "#         bool: Whether or not the table table_name exists in conn\n",
    "#     \"\"\"\n",
    "    \n",
    "#     cursor = conn.cursor()\n",
    "#     query = \"SELECT count(*) FROM sqlite_master WHERE type='table' AND name= + '\" + table_name + \"'\"\n",
    "    \n",
    "#     cursor.execute(query)\n",
    "\n",
    "def generate_year_list(start, yrs):\n",
    "    \"\"\" Load nba gamelog data for the past yrs years as a games tables into an SQLite database given in conn\n",
    "    Input:\n",
    "        conn (sqlite3.Connection) : Connection object corresponding to the database; used to perform SQL commands.\n",
    "        yrs (int): Number of years to include in table\n",
    "    Output:\n",
    "        None\n",
    "    \"\"\"\n",
    "    \n",
    "    \n",
    "    \n",
    "    \n",
    "\n",
    "def load_all_gamelogs(conn, yrs):\n",
    "    \"\"\" Load nba gamelog data for the past yrs years as a games tables into an SQLite database given in conn\n",
    "    Input:\n",
    "        conn (sqlite3.Connection) : Connection object corresponding to the database; used to perform SQL commands.\n",
    "        yrs (int): Number of years to include in table\n",
    "    Output:\n",
    "        None\n",
    "    \"\"\"\n",
    "    \n",
    "    cursor = conn.cursor()\n",
    "    \n",
    "    # hardcode for now\n",
    "    year_list = ['2010-11', '2011-12', '2012-13', '2013-14', '2015-16', '2016-17']\n",
    "    \n",
    "    for year in year_list:\n",
    "        \n",
    "    \n",
    "    \n",
    "    \n",
    "    \n",
    "    \n",
    "    "
   ]
  },
  {
   "cell_type": "code",
   "execution_count": null,
   "metadata": {
    "collapsed": true
   },
   "outputs": [],
   "source": []
  }
 ],
 "metadata": {
  "anaconda-cloud": {},
  "kernelspec": {
   "display_name": "Python [Root]",
   "language": "python",
   "name": "Python [Root]"
  },
  "language_info": {
   "codemirror_mode": {
    "name": "ipython",
    "version": 2
   },
   "file_extension": ".py",
   "mimetype": "text/x-python",
   "name": "python",
   "nbconvert_exporter": "python",
   "pygments_lexer": "ipython2",
   "version": "2.7.12"
  }
 },
 "nbformat": 4,
 "nbformat_minor": 0
}
