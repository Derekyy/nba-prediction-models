{
 "cells": [
  {
   "cell_type": "markdown",
   "metadata": {},
   "source": [
    "# NBA Game Predictions - Final Report\n",
    "## Kevin Yang, Eric Lee, Derek Young\n"
   ]
  },
  {
   "cell_type": "markdown",
   "metadata": {
    "collapsed": true
   },
   "source": [
    "### Introduction\n",
    "The NBA (National Basketball Association) is an American based men's basketball league that is considered to be the best basketball league in the world. As of the 2016-2017 season, there are 30 teams divided into two conferences (and further divided into six divisions).\n",
    "\n",
    "Our main objective is to build prediction models for NBA team performance.\n",
    "\n",
    "On a broad level, we have decided to focus our project on predicting the outcome of a given nba game. On a high level, our approach will involve determining the most important features in determining game outcomes, and then train a supervised machine learning model on these features over many previous games. "
   ]
  },
  {
   "cell_type": "markdown",
   "metadata": {},
   "source": [
    "### Report Contents\n",
    "Below outlines the pipeline to predict NBA games.\n",
    "\n",
    "1. [Data Collection and Scraping](#Data Collection and Scraping)\n",
    "2. [Exploratory Data Analysis]()\n",
    "3. [Feature Selection]()\n",
    "4. [Cutoff and \"N\"-previous Game Selection]()\n",
    "5. [Naive Approach]()\n",
    "6. [Linear Regression Model](#Linear Regression Model)\n",
    "7. [Logistic Regression Model]()\n",
    "8. [Support Vector Machines]()\n",
    "9. [Concluding Thoughts]()\n",
    "\n",
    "While most of our project is written in Python, a certain subset was done in R, specifically modeling linear and logistic regression. Throughout the report, we will highlight snippets of code that were substantial to our results. All code can be found ____."
   ]
  },
  {
   "cell_type": "markdown",
   "metadata": {},
   "source": [
    "<a id='Data Collection and Scraping'></a>\n",
    "### Data Collection and Scraping\n",
    "\n",
    "We scraped all of our data off of [stats.nba.com](http://stats.nba.com) and stored all relevant data in a local sqlite database."
   ]
  },
  {
   "cell_type": "markdown",
   "metadata": {},
   "source": [
    "### Linear Regression Model\n"
   ]
  },
  {
   "cell_type": "code",
   "execution_count": null,
   "metadata": {
    "collapsed": true
   },
   "outputs": [],
   "source": [
    "$$$$"
   ]
  }
 ],
 "metadata": {
  "anaconda-cloud": {},
  "kernelspec": {
   "display_name": "Python [Root]",
   "language": "python",
   "name": "Python [Root]"
  },
  "language_info": {
   "codemirror_mode": {
    "name": "ipython",
    "version": 2
   },
   "file_extension": ".py",
   "mimetype": "text/x-python",
   "name": "python",
   "nbconvert_exporter": "python",
   "pygments_lexer": "ipython2",
   "version": "2.7.12"
  }
 },
 "nbformat": 4,
 "nbformat_minor": 0
}
