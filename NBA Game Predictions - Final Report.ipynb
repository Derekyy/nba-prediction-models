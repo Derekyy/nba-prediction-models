{
 "cells": [
  {
   "cell_type": "markdown",
   "metadata": {},
   "source": [
    "# NBA Game Predictions - Final Report\n",
    "## Kevin Yang, Eric Lee, Derek Young\n"
   ]
  },
  {
   "cell_type": "markdown",
   "metadata": {
    "collapsed": true
   },
   "source": [
    "### Introduction\n",
    "The NBA (National Basketball Association) is an American based men's basketball league that is considered to be the best basketball league in the world. As of the 2016-2017 season, there are 30 teams divided into two conferences (and further divided into six divisions).\n",
    "\n",
    "Our main objective is to build prediction models for NBA team performance.\n",
    "\n",
    "On a broad level, we have decided to focus our project on predicting the outcome of a given nba game. On a high level, our approach will involve determining the most important features in determining game outcomes, and then train a supervised machine learning model on these features over many previous games. "
   ]
  },
  {
   "cell_type": "markdown",
   "metadata": {},
   "source": [
    "### Report Contents\n",
    "Below outlines the pipeline to predict NBA games.\n",
    "\n",
    "1. [Data Collection and Scraping](#Data Collection and Scraping)\n",
    "2. [Exploratory Data Analysis]()\n",
    "3. [Feature Selection]()\n",
    "4. [Cutoff and \"N\"-previous Game Selection]()\n",
    "5. [Naive Approach]()\n",
    "6. [Linear Regression Model](#Linear Regression Model)\n",
    "7. [Logistic Regression Model]()\n",
    "8. [Support Vector Machines]()\n",
    "9. [Concluding Thoughts]()\n",
    "\n",
    "While most of our project is written in Python, a certain subset was done in R, specifically modeling linear and logistic regression. Throughout the report, we will highlight snippets of code that were substantial to our results. All code can be found ____."
   ]
  },
  {
   "cell_type": "markdown",
   "metadata": {},
   "source": [
    "<a id='Data Collection and Scraping'></a>\n",
    "### Data Collection and Scraping\n",
    "\n",
    "We scraped all of our data off of [stats.nba.com](http://stats.nba.com) and stored all relevant data in a local sqlite database."
   ]
  },
  {
   "cell_type": "markdown",
   "metadata": {},
   "source": [
    "### Linear Regression Model\n"
   ]
  },
  {
   "cell_type": "code",
   "execution_count": null,
   "metadata": {
    "collapsed": true
   },
   "outputs": [],
   "source": [
    "$$$$"
   ]
  },
  {
   "cell_type": "markdown",
   "metadata": {},
   "source": [
    "# Exploratory Data Analysis\n",
    "We do some exploratory data analysis of our collected NBA data in order to give us helpful insight that will be useful for us when we ultimately decide what type of variables would be useful predictors for our model. Our EDA will include examining variables both univariately and bi-variately."
   ]
  },
  {
   "cell_type": "markdown",
   "metadata": {},
   "source": [
    "## Bivariate Analysis\n",
    "Based on our personal intuition and understanding of the NBA, we listed out some of the variables that we wanted to explore with the understanding that these variables could potentially be important factors in determining which team will win a given matchup. For all of the following variables, we explored bivariate scatterplots, graphing the home team's data on the y axis against the away team's data on the x axis. For our plots concerning the home and away win/loss percentage in the previous N games, we choose 8 games for the purpose of these graphs. A more detailed analysis on how we pick N is discussed in a different section.\n",
    "\n",
    "1. Home W/L Percentage\n",
    "2. Away W/L Percentage\n",
    "3. Home Average Point Differential\n",
    "4. Away Average Point Differential\n",
    "5. Home W/L Percentage in Previous N Games (8 chosen here for the plots)\n",
    "6. Away W/L Percentage in Previous N Games (8 chosen here for the plots)\n",
    "7. Away W/L Percentage as Away Team\n",
    "8. Home W/L Percentage as Home Team\n",
    "\n",
    "Running these graphs over multiple seasons and eyeballing the plots gave us similar results. As an example, we display and inspect these graphs for the most recently completed season (2015-16). Each of the points are color coded: games that were won by the home team are blue while lost games are red. Hovering over each point displays the home team, the teams matched up, and an boolean value of whether or not the away team was playing a back to back game (1 for back to back, 0 for not)."
   ]
  },
  {
   "cell_type": "code",
   "execution_count": null,
   "metadata": {
    "collapsed": true
   },
   "outputs": [],
   "source": [
    "from bokeh.plotting import figure, output_file, show\n",
    "from bokeh.io import output_notebook\n",
    "from bokeh.charts import Bar\n",
    "from bokeh.charts import Scatter\n",
    "from bokeh.io import output_notebook\n",
    "from bokeh.plotting import figure, output_file, show, ColumnDataSource\n",
    "from bokeh.models import HoverTool\n",
    "from bokeh.io import output_notebook\n",
    "\n",
    "# Plot of Home W/L Percentage vs. Away W/L Percentage\n",
    "all_years_id = home_games_with_cutoff[\"season_id\"].unique()\n",
    "# Look at the previous completed season\n",
    "testYear =  home_games_with_cutoff[(home_games_with_cutoff[\"season_id\"] ==\"22015\")]\n",
    "\n",
    "# Based on home team, color losses as red and wins as blue \n",
    "colormap = {'L': 'red', 'W': 'blue', }\n",
    "colors = [colormap[x] for x in testYear[\"wl\"]]\n",
    "\n",
    "# Import the nba dataframe of the given year as ColumnDataSource \n",
    "source = ColumnDataSource(data=testYear)\n",
    "\n",
    "# Variables we want to show in the hover: university name and ranking\n",
    "hover = HoverTool(tooltips=[(\"Home\", \"@team_abbreviation\"), (\"Game\", \"@matchup\"), (\"Away BB\", \"@away_back_to_back\")])\n",
    "\n",
    "# Add in labels to the graph\n",
    "yearNum = \"2015\"\n",
    "title = \"Home Vs. Away - Win/Loss % Year \" + yearNum\n",
    "p = figure(title = title, tools = [hover, \"resize\", \"box_zoom\", \"reset\"])\n",
    "p.xaxis.axis_label = 'Away Team W/L %'\n",
    "p.yaxis.axis_label = 'Home Team W/L %'\n",
    "\n",
    "# Plot the points for the graph\n",
    "p.circle(testYear[\"away_win_pct\"], testYear[\"home_win_pct\"], color=colors, fill_alpha=0.2, size=10, source = source)\n",
    "# Add a line of slope one to visually divide points\n",
    "p.line([0, 1], [0, 1], line_width=2, color = \"black\")\n",
    "\n",
    "# Display inline\n",
    "output_notebook()\n",
    "show(p)"
   ]
  },
  {
   "cell_type": "markdown",
   "metadata": {},
   "source": [
    "<img src=\"WinLoss.png\", width = 500, height = 500>"
   ]
  },
  {
   "cell_type": "markdown",
   "metadata": {},
   "source": [
    "In this graph, what we can see is that the games above the clearly line tend to have more wins than games below the line. This goes to show that the team with a higher win/loss percentage tends to win more matchups. This pattern in the graph supports the idea that win loss percentage can be an important predictor for modeling NBA game outcomes. "
   ]
  },
  {
   "cell_type": "code",
   "execution_count": null,
   "metadata": {
    "collapsed": true
   },
   "outputs": [],
   "source": [
    "# Plot of Home Avg Pt Diff vs. Away Avg Pt Diff\n",
    "all_years_id = home_games_with_cutoff[\"season_id\"].unique()\n",
    "\n",
    "# Look at the previous completed season\n",
    "testYear =  home_games_with_cutoff[(home_games_with_cutoff[\"season_id\"] ==\"22015\")]\n",
    "\n",
    "# Based on home team, color losses as red and wins as blue \n",
    "colormap = {'L': 'red', 'W': 'blue', }\n",
    "colors = [colormap[x] for x in testYear[\"wl\"]]\n",
    "\n",
    "# Import the nba dataframe of the given year as ColumnDataSource\n",
    "source = ColumnDataSource(data=testYear)\n",
    "\n",
    "# Variables we want to show in the hover: university name and ranking\n",
    "hover = HoverTool(tooltips=[(\"Home\", \"@team_abbreviation\"), (\"Game\", \"@matchup\"), (\"Away BB\", \"@away_back_to_back\")])\n",
    "\n",
    "# Add in labels to the graph\n",
    "yearNum = \"2015\"\n",
    "title = \"Home Vs. Away - Avg Pt Diff Year \" + yearNum\n",
    "p = figure(title = title, tools = [hover, \"resize\", \"box_zoom\", \"reset\"])\n",
    "p.xaxis.axis_label = 'Away Team Avg Pt Diff'\n",
    "p.yaxis.axis_label = 'Home Teams Avg Pt Diff'\n",
    "\n",
    "# Plot the points for the graph\n",
    "p.circle(testYear[\"away_avg_pt_diff\"], testYear[\"home_avg_pt_diff\"], color=colors, fill_alpha=0.2, size=10, source = source)\n",
    "# Add a line of slope one to visually divide points\n",
    "p.line([-15, 15], [-15, 15], line_width=2, color = \"black\")\n",
    "\n",
    "# Display inline\n",
    "output_notebook()\n",
    "show(p)"
   ]
  },
  {
   "cell_type": "markdown",
   "metadata": {},
   "source": [
    "<img src=\"AvgPtDiff.png\", width = 500, height = 500>"
   ]
  },
  {
   "cell_type": "markdown",
   "metadata": {},
   "source": [
    "Again, we see that the games above the line clearly tend to have more wins than games below the line, showing that the team with a higher avg pt differential tends to win more matchups. This pattern in the graph supports the idea that this variable can be an important predictor for modeling NBA game outcomes. "
   ]
  },
  {
   "cell_type": "code",
   "execution_count": null,
   "metadata": {
    "collapsed": true
   },
   "outputs": [],
   "source": [
    "# Plot of Home W/L Percentage Previous N Games vs. Away W/L Percentage Previous N games\n",
    "all_years_id = home_games_with_cutoff[\"season_id\"].unique()\n",
    "# Hard code the year we are looking at for now\n",
    "testYear =  home_games_with_cutoff[(home_games_with_cutoff[\"season_id\"] ==\"22015\")]\n",
    "\n",
    "# Based on home team, color losses as red and wins as blue \n",
    "colormap = {'L': 'red', 'W': 'blue', }\n",
    "colors = [colormap[x] for x in testYear[\"wl\"]]\n",
    "\n",
    "# Import the nba dataframe of the given year as ColumnDataSource\n",
    "source = ColumnDataSource(data=testYear)\n",
    "\n",
    "# Variables we want to show in the hover: university name and ranking\n",
    "hover = HoverTool(tooltips=[(\"Home\", \"@team_abbreviation\"), (\"Game\", \"@matchup\"), (\"Away BB\", \"@away_back_to_back\")])\n",
    "\n",
    "# Add in labels to the graph\n",
    "yearNum = \"2015\"\n",
    "title = \"Home Vs. Away - Win/Loss % Last 8 Games \" + yearNum\n",
    "p = figure(title = title, tools = [hover, \"resize\", \"box_zoom\", \"reset\"])\n",
    "p.xaxis.axis_label = 'Away Team Win/Loss % Last 8 Games'\n",
    "p.yaxis.axis_label = 'Home Team Win/Loss % Last 8 Games'\n",
    "\n",
    "# Plot the points for the graph\n",
    "p.circle(testYear[\"away_win_pct_N\"], testYear[\"home_win_pct_N\"], color=colors, fill_alpha=0.2, size=10, source = source)\n",
    "p.line([0, 1], [0, 1], line_width=2, color = \"black\")\n",
    "\n",
    "# Display inline\n",
    "output_notebook()\n",
    "show(p)"
   ]
  },
  {
   "cell_type": "markdown",
   "metadata": {},
   "source": [
    "<img src=\"WinLossLastN.png\", width = 500, height = 500>"
   ]
  },
  {
   "cell_type": "markdown",
   "metadata": {},
   "source": [
    "For this plot, a lot of the points have different shades because there are multiple games with different outcomes that lie at the same point. Again, we see that the games above the line clearly tend to have more wins than games below the line, showing that the team with a higher win/loss percentage in the last 8 games ends up winning more matchups. This pattern in the graph supports the idea that this variable can be an important predictor for modeling NBA game outcomes. "
   ]
  },
  {
   "cell_type": "code",
   "execution_count": null,
   "metadata": {
    "collapsed": true
   },
   "outputs": [],
   "source": [
    "# Plot of Home Team W/L Percentage as Home vs. Away W/L Percentage as Away \n",
    "all_years_id = home_games_with_cutoff[\"season_id\"].unique()\n",
    "# Hard code the year we are looking at for now\n",
    "testYear =  home_games_with_cutoff[(home_games_with_cutoff[\"season_id\"] ==\"22015\")]\n",
    "\n",
    "# Based on home team, color losses as red and wins as blue \n",
    "colormap = {'L': 'red', 'W': 'blue', }\n",
    "colors = [colormap[x] for x in testYear[\"wl\"]]\n",
    "\n",
    "# Import the nba dataframe of the given year as ColumnDataSource\n",
    "source = ColumnDataSource(data=testYear)\n",
    "\n",
    "# Variables we want to show in the hover: university name and ranking\n",
    "hover = HoverTool(tooltips=[(\"Home\", \"@team_abbreviation\"), (\"Game\", \"@matchup\"), (\"Away BB\", \"@away_back_to_back\")])\n",
    "\n",
    "# Add in labels to the graph\n",
    "yearNum = \"2015\"\n",
    "title = \"Home Win % as Home vs Away Win % as Away \" + yearNum\n",
    "p = figure(title = title, tools = [hover, \"resize\", \"box_zoom\", \"reset\"])\n",
    "p.xaxis.axis_label = 'Away Team Win/Loss as Away Team'\n",
    "p.yaxis.axis_label = 'Home Team Win/Loss as Home Team'\n",
    "\n",
    "# Plot the points for the graph\n",
    "p.circle(testYear[\"away_win_pct_as_away\"], testYear[\"home_win_pct_as_home\"], color=colors, fill_alpha=0.2, size=10, source = source)\n",
    "p.line([0, 1], [0, 1], line_width=2, color = \"black\")\n",
    "\n",
    "# Display inline\n",
    "output_notebook()\n",
    "show(p)"
   ]
  },
  {
   "cell_type": "markdown",
   "metadata": {},
   "source": [
    "<img src=\"HomeAsHome%.png\", width = 500, height = 500>"
   ]
  },
  {
   "cell_type": "markdown",
   "metadata": {},
   "source": [
    "Again, we see that the games above the line clearly tend to have more wins than games below the line, showing that home teams with a higher win/loss percentage as the home team are more likely to win matchups, and vice versa. This pattern in the graph supports the idea that this variable can be an important predictor for modeling NBA game outcomes. "
   ]
  },
  {
   "cell_type": "markdown",
   "metadata": {},
   "source": [
    "## Hypothesis Testing: Is Back to Back \n",
    "Another variable that we believed to be an important predictor to the outcome of NBA games was whether or not either of the teams playing in the current matchup had just played a game the day before, as teams playing consequtive games are likely to be more tired and more likely to lose than if they were well rested. \n",
    "\n",
    "We evaluate this claim with hypothesis testing. For each team in the league, we will look back throughout several seasons and calculate their win/loss percentages for regular games and back to back games. We then run a difference in proportions hypothesis test to see whether or not there is a statistically significant difference between these win/loss percentages. Because we already intuitively believe that playing back to back games will lower a given team's chances of winning, this hypothesis test will be one sided. The hypothesis test below was run at an alpha level of 0.05. The null and alternative hypotheses are listed below:\n",
    "\n",
    "#### Null Hypothesis: \n",
    "The true difference in this team's win/loss percentages between regular games and back to back games is zero.\n",
    "#### Alternative Hypothesis: \n",
    "The true difference in this team's win/loss percentages between regular games and back to back games is non-zero."
   ]
  },
  {
   "cell_type": "code",
   "execution_count": null,
   "metadata": {
    "collapsed": true
   },
   "outputs": [],
   "source": [
    "import scipy.stats as st\n",
    "from scipy.stats import t\n",
    "from scipy.stats import norm\n",
    "\n",
    "def teamPercentages(teamID, game_log):\n",
    "    \"\"\" Given a team id (int) returns a (list, list) representing win loss percentages for back to back \n",
    "        and regular games\n",
    "    Input:\n",
    "        teamID (int): team_id number\n",
    "        game_log (pd.DataFrame): Game_log that which lists all the home games \n",
    "    Output:\n",
    "        (list, list): Tuple of lists where each list contains the number of wins and number of games played for a \n",
    "                      given category, where the first list represents back to back games and the second list \n",
    "                      represents regular games.\n",
    "    \"\"\"\n",
    "    seasons = game_log[\"season_id\"].unique()\n",
    "    # Initialize lists which store the percentages for back to back games and regular games for each season\n",
    "    bbList = []\n",
    "    regList = []\n",
    "    # Initialize counters for games \n",
    "    bbWins = 0 \n",
    "    bbGames = 0\n",
    "    regWins = 0\n",
    "    regGames = 0\n",
    "    # Iterate through all seasons of the dataframe \n",
    "    for season in seasons:\n",
    "        # Get dataframe that only contains games from this season of the team of interest\n",
    "        currDf = game_log[(game_log[\"season_id\"] == season) & ((game_log[\"team_id\"] == teamID) | (game_log[\"opp_team_id\"] == teamID))]\n",
    "        # Iterate over the dataframe\n",
    "        for (index, row) in currDf.iterrows():\n",
    "            # Determine whether this is a home or away game\n",
    "            if (row[\"team_id\"] == teamID):\n",
    "                home = True\n",
    "            else:\n",
    "                home = False\n",
    "            # Case 1: Home back to back game \n",
    "            if (home and row[\"home_back_to_back\"] == 1):\n",
    "                bbGames += 1\n",
    "                if (row[\"wl_binary\"] == 1):\n",
    "                    bbWins += 1\n",
    "            # Case 2: Away back to back game\n",
    "            if(home == False and row[\"away_back_to_back\"] == 1):\n",
    "                bbGames += 1\n",
    "                if (row[\"wl_binary\"] == 0):\n",
    "                    bbWins += 1\n",
    "            # Otherwise we have regular games\n",
    "            else:\n",
    "                regGames += 1\n",
    "                if (home and row[\"wl_binary\"] == 1):\n",
    "                    regWins += 1\n",
    "                elif (home == False and row[\"wl_binary\"] == 0):\n",
    "                    regWins += 1\n",
    "    # Add the num of won and total games in the respective lists \n",
    "    bbList.append(bbWins)\n",
    "    bbList.append(bbGames)\n",
    "    regList.append(regWins)\n",
    "    regList.append(regGames)\n",
    "    return (bbList, regList)\n",
    "\n",
    "def leaguePercentages(game_log, season_id):\n",
    "    \"\"\" For all teams in the league, generate their win loss percentages for back to back and regular games \n",
    "        across all seasons from data from a given season onwards, storing the result in a dictionary. \n",
    "    Input: \n",
    "        game_log (pd.Dataframe): Dataframe containing all the home games\n",
    "        season_id (string): season id in which we only look at the results occuring at or after this season \n",
    "    Output:\n",
    "        returnDict: (string, (List, List)) where key represents the team name and value is a tuple of \n",
    "                                           lists. Each list contains the number of wins and total games played, \n",
    "                                           where the first list represents back to back games and the second list \n",
    "                                           represents regular games\n",
    "    \"\"\"\n",
    "    # Index out the seasons \n",
    "    newLog = game_log[game_log[\"season_id\"] >= season_id]\n",
    "    # Initialize the dictionary for all teams\n",
    "    returnDict = {}\n",
    "    teamList = newLog[\"team_id\"].unique()\n",
    "    # Iterate over all teams and call above helper function to generate the lists of win loss % for each team\n",
    "    for teamID in teamList:\n",
    "        returnDict[team] = teamPercentages(teamID, newLog)\n",
    "    return returnDict\n",
    "\n",
    "def hypothesisTest(bbList, regList):\n",
    "    \"\"\" Run a hypothesis test to see whether the true mean win loss percentage of regular games is higher than\n",
    "        the true mean win loss percentage of back to back games for a specific team over many seasons (alpha = 0.05).\n",
    "    Input: \n",
    "        bbList (List): List containing the win loss percentages of a team for back to back games over many seasons\n",
    "        regList (List): List containing the win loss percentages of a team for regular games over many seasons \n",
    "    Output:\n",
    "        result: (Boolean) where 1 represents regular game win loss percentage being significantly greater than the \n",
    "                          win loss percentage for back to back games given the inputted data.\n",
    "    \"\"\"\n",
    "    # Get number of back to back and reg games \n",
    "    bbWins = bbList[0]\n",
    "    nBB = bbList[1]\n",
    "    regWins = regList[0]\n",
    "    nReg = regList[1]\n",
    "    # Get our win loss percentages for back to back and regular games \n",
    "    bbProp = bbWins / float(nBB)\n",
    "    regProp = regWins / float(nReg)\n",
    "    # Caluclate the pooled proportion and pooled standard deviation \n",
    "    pooledProp = (bbWins + regWins) / float(nBB + nReg)\n",
    "    pooledSE = np.sqrt(pooledProp * (1 - pooledProp) * ((1/float(nBB)) + (1/float(nReg))))\n",
    "    propDiff = regProp - bbProp\n",
    "    z = propDiff / float(pooledSE)\n",
    "    # Find the cutoff for alpha = 0.05 \n",
    "    cutoff = norm.ppf(0.95, loc = 0, scale = 1)\n",
    "    return z > cutoff \n",
    "    \n",
    "def testLeague(game_log, season_id):\n",
    "    \"\"\" For all teams in the league, run the hypothesis tests comparing win loss percentages between regular and \n",
    "        back to back games.\n",
    "    Input: \n",
    "        game_log (pd.Dataframe): Dataframe containing home game logs \n",
    "        season_id (string): season_id in which we only look at the results occuring at or after this season  \n",
    "    Output:\n",
    "        result: (Float, Dictionary) Tuple containing an int and a dictionary. The float represents the percentage of teams\n",
    "                                    in which back to back games is significant from the hypothesis test. The dictionary \n",
    "                                    has keys being the team_id, and values as booleans of whether or not there was a \n",
    "                                    significant difference between the records\n",
    "    \"\"\"\n",
    "    # Index out the seasons \n",
    "    newLog = game_log[game_log[\"season_id\"] >= season_id]\n",
    "    # Initialize the dictionary for all teams\n",
    "    returnDict = {}\n",
    "    teamList = newLog[\"team_id\"].unique()\n",
    "    for team in teamList:\n",
    "        returnDict[team] = hypothesisTest(teamPercentages(team, newLog[newLog[\"season_id\"] >= season_id])[0], teamPercentages(team, all_games[all_games[\"season_id\"] >= season_id])[1])\n",
    "    # Find the proportion of teams in which this difference was significant across the league \n",
    "    sig = 0 \n",
    "    total = 0 \n",
    "    for team in returnDict:\n",
    "        if returnDict[team] == 1:\n",
    "            sig += 1\n",
    "        total += 1\n",
    "    percSig = (sig) / float(total)\n",
    "    # Print the percentage of teams in which back to back is a significant variable \n",
    "    print percSig\n",
    "    return (percSig, returnDict)\n",
    "\n",
    "testLeague(home_games, \"22005\")"
   ]
  },
  {
   "cell_type": "markdown",
   "metadata": {},
   "source": [
    "## Result\n",
    "The above code ran the hypothesis test comparing win/loss percentages between regular and back to back games across all teams in the league from the 2005 season to the games that have occured in the current (2016-2017) season. As the results show, for our data collected from the 2005 season and on, at an alpha level of 0.05, we see that there is statistically significant evidence to reject the null in favor of the alternative that teams have a worse record on back to back games compared to regular games, for 53% of teams in the league. Thus, we decide that back to back is a significant predictor that should be included in our model. "
   ]
  },
  {
   "cell_type": "markdown",
   "metadata": {},
   "source": [
    "# How has the NBA changed over the years?\n",
    "We want to examine the change of key statistics over time in the past 40 years of the NBA. \n",
    "1. How has the standard deviation of team wins in a given season changed over different seasons?\n",
    "2. How has the average point differential for a given season changed over different seasons?\n",
    "3. How has the difference between the mean point differential between top teams and bottom teams changed over different seasons?\n",
    "\n",
    "Knowing how the league has changed in terms of these potential predictors is key to better understanding and optimizing our model to how the league currently operates and whether the certain variables are likely vary a lot throughout different seasons or are more stable. The following code addresses these questions by generating visualizations on these different values across the past 40 seasons. "
   ]
  },
  {
   "cell_type": "code",
   "execution_count": null,
   "metadata": {
    "collapsed": true
   },
   "outputs": [],
   "source": [
    "def get_team_wins_count(league_df, team_id, season_id):\n",
    "    \"\"\" Given a df containing ALL game logs (including home and away), \n",
    "        team_id and season_id, returns number of wins the team got that season\n",
    "    Input:\n",
    "        league_df (pandas.DataFrame): dataframe containing post-processed league logs (both HOME and AWAY)\n",
    "        team_id (int or string): player ID number\n",
    "        season_id (int or string): season ID number\n",
    "    Output:\n",
    "        (int): number of games team won in season\n",
    "    \"\"\" \n",
    "    team_id = int(team_id)\n",
    "    season_id = str(season_id)\n",
    "    \n",
    "    temp_df = league_df[(league_df['season_id'] == season_id) & (league_df['team_id'] == team_id)]\n",
    "    temp_df = temp_df.sort_values('game_date')\n",
    "    \n",
    "    # get last game\n",
    "    last_game = temp_df.iloc[len(temp_df) - 1]\n",
    "\n",
    "    wins = 0\n",
    "    games_won_so_far = 0\n",
    "    if last_game['is_home']:\n",
    "        games_won_so_far = int(round(last_game['home_win_pct']*last_game['home_game_count']))\n",
    "    else:\n",
    "        games_won_so_far = int(round(last_game['away_win_pct']*last_game['away_game_count']))\n",
    "    wins = games_won_so_far + last_game['wl_binary']\n",
    "    return wins\n",
    "    \n",
    "get_team_wins_count(all_games, \"1610612742\", \"22004\")\n",
    "\n",
    "def graph_stdev_wins(league_df):\n",
    "    \"\"\" Given a df containing ALL SORTED game logs (including home and away), \n",
    "        graphs stdev of team wins over time\n",
    "    Input:\n",
    "        league_df (pandas.DataFrame): dataframe containing post-processed league logs (both HOME and AWAY)\n",
    "    Output:\n",
    "        None\n",
    "    \"\"\"\n",
    "    season_list = league_df['season_id'].unique().tolist()\n",
    "    seasons = []\n",
    "    stdevs = []\n",
    "    for season in season_list:\n",
    "        season_df = league_df[league_df['season_id'] == season]\n",
    "        team_list = season_df['team_id'].unique().tolist()\n",
    "        win_counts = []\n",
    "        for team in team_list:\n",
    "            team_wins = get_team_wins_count(league_df, team, season)\n",
    "            win_counts.append(team_wins)\n",
    "        stdev = np.array(win_counts).std(ddof = 1)\n",
    "        seasons.append(int(season[1:]))\n",
    "        stdevs.append(stdev)\n",
    "        \n",
    "    # remove last, unfinished year\n",
    "    seasons = seasons[:len(seasons)- 1]\n",
    "    stdevs = stdevs[:len(stdevs) - 1]\n",
    "    fig = plt.figure()\n",
    "    fig.suptitle('Standard Deviation Of Games Won',fontsize=12)\n",
    "    plt.xlabel('Season Starting Year')\n",
    "    plt.ylabel('Standard Deviation')\n",
    "    plt.plot(seasons, stdevs, seasons, \n",
    "                  np.poly1d(np.polyfit(seasons, stdevs, 1))(np.unique(seasons)))\n",
    "         \n",
    "graph_stdev_wins(all_games)\n",
    "\n",
    "def graph_avg_ptdiff(league_df):\n",
    "    \"\"\" Given a df containing ALL SORTED game logs (including home and away), \n",
    "        graphs average (absolute value) ptdiff over seasons\n",
    "    Input:\n",
    "        league_df (pandas.DataFrame): dataframe containing post-processed league logs (both HOME and AWAY)\n",
    "    Output:\n",
    "        None\n",
    "    \"\"\"\n",
    "    season_list = league_df['season_id'].unique().tolist()\n",
    "    seasons = []\n",
    "    avg_pt_diffs = []\n",
    "    for season in season_list:\n",
    "        season_df = league_df[league_df['season_id'] == season]\n",
    "        pt_diff = season_df['plus_minus'].values\n",
    "        pt_diff = np.apply_along_axis(lambda x: np.abs(x), 0, pt_diff)\n",
    "        seasons.append(int(season[1:]))\n",
    "        avg_pt_diffs.append(np.mean(pt_diff))\n",
    "    fig = plt.figure()\n",
    "    fig.suptitle('Average Point Differentials Over Seasons',fontsize=12)\n",
    "    plt.xlabel('Season Starting Year')\n",
    "    plt.ylabel('Average Point Differential')\n",
    "    plt.plot(seasons, avg_pt_diffs, seasons, \n",
    "                  np.poly1d(np.polyfit(seasons, avg_pt_diffs, 1))(np.unique(seasons)))\n",
    "\n",
    "graph_avg_ptdiff(all_games)\n",
    "    \n",
    "def total_games_graph(league_df):\n",
    "    \"\"\" Given a df containing ALL HOME game logs, \n",
    "        graphs total games played throughout seasons\n",
    "    Input:\n",
    "        league_df (pandas.DataFrame): dataframe containing post-processed league logs (only HOME)\n",
    "    Output:\n",
    "        None\n",
    "    \"\"\"\n",
    "    season_list = league_df['season_id'].unique().tolist()\n",
    "    seasons = []\n",
    "    total_games = []\n",
    "    for season in season_list:\n",
    "        season_df = league_df[league_df['season_id'] == season]\n",
    "        seasons.append(int(season[1:]))\n",
    "        total_games.append(len(season_df))\n",
    "    fig = plt.figure()\n",
    "    fig.suptitle('Total Games Played Over Different Seasons',fontsize=12)\n",
    "    plt.xlabel('Season Starting Year')\n",
    "    plt.ylabel('Games Played')\n",
    "    plt.plot(seasons, total_games, seasons, \n",
    "                  np.poly1d(np.polyfit(seasons, total_games, 1))(np.unique(seasons)))\n",
    "    \n",
    "total_games_graph(home_games)"
   ]
  },
  {
   "cell_type": "markdown",
   "metadata": {},
   "source": [
    "Its clear that the first two plots show that the standard deviation of games won and average point differentials have wave-like patterns that are only slowly increasing as a whole (looking across the wave patterns). The increasing trend of the standard deviation of the number of games won shows us that there exists a larger spread of games won throughout the league within a season as we move to more current seasons, indicating there are likely larger gaps between good and bad teams in the league. This could possibly be due to the increasing number of teams in the league. Similarly, the increasing trend in average point differential also supports this idea of a larger gap between good and bad teams, as average point differntials are larger in more current seasons. \n",
    "\n",
    "These effects, however, do not seem particularly large, as the total increase for the standard deviation of games won and average point differential are 4 and 0.5, respectively.\n",
    "\n",
    "Where we do notice a larger effect is in the total games played graph. We see that the number has been increasing from seasons 1940 to 1990, where it starts to level off. Note that the last point on the total number of games played across seasons is lower because it is the current season which is still in progress. Additionally, the years 1989 and 2011 show dips in the plot due to the lockout season, in which the seasons were condensed. This is important when considering the scope of our data in terms of considering which seasons to include. Seasons after 1990 and after are a lot more similar to the number of total games played currently in the NBA, while going back further and further becomes increasingly different in terms of number of games played. "
   ]
  }
 ],
 "metadata": {
  "anaconda-cloud": {},
  "kernelspec": {
   "display_name": "Python [Root]",
   "language": "python",
   "name": "Python [Root]"
  },
  "language_info": {
   "codemirror_mode": {
    "name": "ipython",
    "version": 2
   },
   "file_extension": ".py",
   "mimetype": "text/x-python",
   "name": "python",
   "nbconvert_exporter": "python",
   "pygments_lexer": "ipython2",
   "version": "2.7.12"
  }
 },
 "nbformat": 4,
 "nbformat_minor": 0
}
